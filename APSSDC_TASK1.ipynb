{
 "cells": [
  {
   "cell_type": "code",
   "execution_count": 2,
   "metadata": {},
   "outputs": [
    {
     "name": "stdout",
     "output_type": "stream",
     "text": [
      "Enter your Age:253\n",
      "You are eligible to vote because 253 is your age\n"
     ]
    }
   ],
   "source": [
    "##Program to check whether the person is available for vote or not\n",
    "a= int(input(\"Enter your Age:\"))\n",
    "if a>=18:\n",
    "    print(\"You are eligible to vote because\",a,\"is your age\")\n",
    "else:\n",
    "    print(\"you are not eligible for voting because of \",a,\"so come after getting 18 years\")"
   ]
  },
  {
   "cell_type": "code",
   "execution_count": 10,
   "metadata": {},
   "outputs": [
    {
     "name": "stdout",
     "output_type": "stream",
     "text": [
      "Enter any number:-2\n",
      "If it is not positive then -2  is called as negative number\n"
     ]
    }
   ],
   "source": [
    "##Program to check whether a number is positive or not\n",
    "a=int(input(\"Enter any number:\"))\n",
    "if a>=0:\n",
    "    print(\"The number you entered\",a,\" is called as a positive number\")\n",
    "else:\n",
    "    print(\"If it is not positive then\",a,\" is called as negative number\")"
   ]
  },
  {
   "cell_type": "code",
   "execution_count": 11,
   "metadata": {},
   "outputs": [
    {
     "name": "stdout",
     "output_type": "stream",
     "text": [
      " Enter number: 8\n",
      "given number is even and divisible by 4 \n"
     ]
    }
   ],
   "source": [
    "##program to check the given number is even or odd if it's even check which is divisible by 4 or not\n",
    "\n",
    "a = int(input(\" Enter number: \"))\n",
    "\n",
    "if (a % 2) ==0 :\n",
    "    if (a % 4) ==0:\n",
    "        print(\"given number is even and divisible by 4 \")\n",
    "    else:\n",
    "        print(\"given number is even and not divisible by 4 \")\n",
    "else:\n",
    "    print(\"given number is odd\")"
   ]
  },
  {
   "cell_type": "code",
   "execution_count": 12,
   "metadata": {},
   "outputs": [
    {
     "name": "stdout",
     "output_type": "stream",
     "text": [
      "Enter Marks Obtained in 5 Subjects: 100\n",
      "100\n",
      "100\n",
      "99\n",
      "99\n",
      "98\n",
      "Student is passed in the examination in distinction level \n"
     ]
    }
   ],
   "source": [
    "###program to print student grade based on persentage like Distinction,pass or fail\n",
    "\n",
    "a = int(input(\"Enter Marks Obtained in 5 Subjects: \"))\n",
    "MAT = int(input())\n",
    "PHY = int(input())\n",
    "CHE = int(input())\n",
    "ENG = int(input())\n",
    "SANS = int(input())\n",
    "\n",
    "tot = MAT+PHY+CHE+ENG+SANS\n",
    "avg = tot/5\n",
    "\n",
    "if avg>=95 :\n",
    "    print(\"Student is passed in the examination in distinction level \")\n",
    "elif avg>=50:\n",
    "    print(\" Student is passed in the examination \")\n",
    "elif avg<=50:\n",
    "    print(\" Student is failed in the examination\")"
   ]
  },
  {
   "cell_type": "code",
   "execution_count": 13,
   "metadata": {},
   "outputs": [
    {
     "name": "stdout",
     "output_type": "stream",
     "text": [
      "Enter year here 2020\n",
      "2020 is a leap year\n"
     ]
    }
   ],
   "source": [
    "# program to check if year is a leap year or not\n",
    "\n",
    "a = int(input(\"Enter year here \"))\n",
    "\n",
    "if (a % 4) == 0:\n",
    "   if (a % 100) == 0:\n",
    "       if (a % 400) == 0:\n",
    "           print(\"{0} is a leap year\".format(a))\n",
    "       else:\n",
    "           print(\"{0} is not a leap year\".format(a))\n",
    "   else:\n",
    "       print(\"{0} is a leap year\".format(a))\n",
    "else:\n",
    "   print(\"{0} is not a leap year\".format(a))"
   ]
  },
  {
   "cell_type": "code",
   "execution_count": null,
   "metadata": {},
   "outputs": [],
   "source": []
  }
 ],
 "metadata": {
  "kernelspec": {
   "display_name": "Python 3",
   "language": "python",
   "name": "python3"
  },
  "language_info": {
   "codemirror_mode": {
    "name": "ipython",
    "version": 3
   },
   "file_extension": ".py",
   "mimetype": "text/x-python",
   "name": "python",
   "nbconvert_exporter": "python",
   "pygments_lexer": "ipython3",
   "version": "3.7.4"
  }
 },
 "nbformat": 4,
 "nbformat_minor": 2
}
