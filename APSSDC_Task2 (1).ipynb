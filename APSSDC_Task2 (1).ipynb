{
 "cells": [
  {
   "cell_type": "code",
   "execution_count": 1,
   "metadata": {},
   "outputs": [
    {
     "name": "stdout",
     "output_type": "stream",
     "text": [
      "Enter your roll no:AP19110010019\n",
      " You belongs to  CSE deppartment\n"
     ]
    }
   ],
   "source": [
    "#Take last 3 values of roll no(AP19110010109)\n",
    "# if values start with \"01\" --> 'CSE dept'\n",
    "# elif values start with \"11\" --> 'IT dept'\n",
    "# elif values is stsrt with \"21\" --> 'ECE dept'\n",
    "# else not an srm student\n",
    "roll = input(\"Enter your roll no:\")\n",
    "if roll[-3:].startswith('01'):\n",
    "    print(\" You belongs to  CSE deppartment\")\n",
    "elif roll[-3:].startswith('11'):\n",
    "    print(\"You belongs to IT department\")\n",
    "elif roll[-3:].startswith('21'):\n",
    "    print(\"You belongs to ECE department\")\n",
    "else:\n",
    "    print(\" You're Not an SRM Student\")\n",
    "    \n"
   ]
  },
  {
   "cell_type": "code",
   "execution_count": 1,
   "metadata": {},
   "outputs": [
    {
     "name": "stdout",
     "output_type": "stream",
     "text": [
      "1804 1808 1812 1816 1820 1824 1828 1832 1836 1840 1844 1848 1852 1856 1860 1864 1868 1872 1876 1880 1884 1888 1892 1896 1904 1908 1912 1916 1920 1924 1928 1932 1936 1940 1944 1948 1952 1956 1960 1964 1968 1972 1976 1980 1984 1988 1992 1996 2000 2004 2008 2012 2016 2020 "
     ]
    }
   ],
   "source": [
    "#Task2\n",
    "for year in range(1800,2021):\n",
    "    if(year%4==0 and year%100!=0) or (year%400==0):\n",
    "        print(year,end=' ')"
   ]
  },
  {
   "cell_type": "code",
   "execution_count": null,
   "metadata": {},
   "outputs": [],
   "source": []
  }
 ],
 "metadata": {
  "kernelspec": {
   "display_name": "Python 3",
   "language": "python",
   "name": "python3"
  },
  "language_info": {
   "codemirror_mode": {
    "name": "ipython",
    "version": 3
   },
   "file_extension": ".py",
   "mimetype": "text/x-python",
   "name": "python",
   "nbconvert_exporter": "python",
   "pygments_lexer": "ipython3",
   "version": "3.7.4"
  }
 },
 "nbformat": 4,
 "nbformat_minor": 2
}
