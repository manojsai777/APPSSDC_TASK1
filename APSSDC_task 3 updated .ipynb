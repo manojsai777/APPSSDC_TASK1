{
 "cells": [
  {
   "cell_type": "code",
   "execution_count": 2,
   "metadata": {},
   "outputs": [
    {
     "name": "stdout",
     "output_type": "stream",
     "text": [
      "Enter your string:Nanojsai\n",
      "8\n",
      "Even no.of letters are there in your string\n",
      "o j\n"
     ]
    }
   ],
   "source": [
    "###Task :-Input from the user and check whether the string is even or odd if its odd access one middle character and \n",
    "#if its even access two elements\n",
    "h=str(input('Enter your string:'))\n",
    "b=len(h)\n",
    "print(b)\n",
    "if b%2==0:\n",
    "    print('Even no.of letters are there in your string')\n",
    "    d=h[(b-1) // 2]\n",
    "    e=h[b // 2]\n",
    "    print(d,e)\n",
    "else:\n",
    "    print('Odd no.of letters are there in your string')\n",
    "    e=h[b//2]\n",
    "    print(e)"
   ]
  },
  {
   "cell_type": "code",
   "execution_count": null,
   "metadata": {},
   "outputs": [],
   "source": []
  }
 ],
 "metadata": {
  "kernelspec": {
   "display_name": "Python 3",
   "language": "python",
   "name": "python3"
  },
  "language_info": {
   "codemirror_mode": {
    "name": "ipython",
    "version": 3
   },
   "file_extension": ".py",
   "mimetype": "text/x-python",
   "name": "python",
   "nbconvert_exporter": "python",
   "pygments_lexer": "ipython3",
   "version": "3.7.4"
  }
 },
 "nbformat": 4,
 "nbformat_minor": 2
}
