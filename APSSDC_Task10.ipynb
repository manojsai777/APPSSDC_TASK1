{
 "cells": [
  {
   "cell_type": "code",
   "execution_count": 1,
   "metadata": {},
   "outputs": [
    {
     "name": "stdout",
     "output_type": "stream",
     "text": [
      "Enter a namemanojSai\n"
     ]
    },
    {
     "data": {
      "text/plain": [
       "('The data is in camelcase', 'ManojSai')"
      ]
     },
     "execution_count": 1,
     "metadata": {},
     "output_type": "execute_result"
    }
   ],
   "source": [
    "\n",
    "import emoji\n",
    "import camelcase\n",
    "import pyttsx3\n",
    "def c(data):\n",
    "    n=camelcase.CamelCase()\n",
    "    if data==n.hump(data):\n",
    "        return emoji.emojize(\"The data is in camelcase:thumbsup:\",use_aliases = True)\n",
    "    else:\n",
    "        spk=pyttsx3.init()\n",
    "        spk.say('Convert your data into camelcase')\n",
    "        spk.runAndWait()\n",
    "        return \"The data is in camelcase\",n.hump(data)\n",
    "        \n",
    "data=input('Enter a name')\n",
    "c(data)"
   ]
  },
  {
   "cell_type": "code",
   "execution_count": null,
   "metadata": {},
   "outputs": [],
   "source": []
  }
 ],
 "metadata": {
  "kernelspec": {
   "display_name": "Python 3",
   "language": "python",
   "name": "python3"
  },
  "language_info": {
   "codemirror_mode": {
    "name": "ipython",
    "version": 3
   },
   "file_extension": ".py",
   "mimetype": "text/x-python",
   "name": "python",
   "nbconvert_exporter": "python",
   "pygments_lexer": "ipython3",
   "version": "3.7.4"
  }
 },
 "nbformat": 4,
 "nbformat_minor": 2
}
