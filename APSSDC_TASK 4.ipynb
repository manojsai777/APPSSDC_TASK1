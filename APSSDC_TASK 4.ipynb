{
 "cells": [
  {
   "cell_type": "code",
   "execution_count": 1,
   "metadata": {},
   "outputs": [
    {
     "name": "stdout",
     "output_type": "stream",
     "text": [
      "I'm robo2.o 2gb ram 10ghz\n"
     ]
    }
   ],
   "source": [
    "#Task1:-Write a Python program to convert a list of characters into a string\n",
    "d=[\"I'm\",\"robo2.o\",\"2gb ram\",\"10ghz\"]\n",
    "e=d[0] + ' '+ d[1] + ' ' + d[2] + ' ' +d[3]\n",
    "print(e)"
   ]
  },
  {
   "cell_type": "code",
   "execution_count": 4,
   "metadata": {},
   "outputs": [
    {
     "name": "stdout",
     "output_type": "stream",
     "text": [
      "Your even numbers list is --> [2, 4, 6, 8, 0]\n",
      "Your odd numbers list is --> [1, 3, 5, 7, 9]\n"
     ]
    }
   ],
   "source": [
    "#Task2:-Program to put even and odd elements in a list into two different lists\n",
    "l=[1,2,3,4,5,6,7,8,9,0]\n",
    "l1=[]\n",
    "l2=[]\n",
    "for i in l:\n",
    "    if i%2==0:\n",
    "        l1.append(i)\n",
    "    else:\n",
    "        l2.append(i)\n",
    "print(\"Your even numbers list is -->\",l1)\n",
    "print(\"Your odd numbers list is -->\",l2)"
   ]
  },
  {
   "cell_type": "code",
   "execution_count": 5,
   "metadata": {},
   "outputs": [
    {
     "name": "stdout",
     "output_type": "stream",
     "text": [
      "4 3 2 1 "
     ]
    }
   ],
   "source": [
    "##Task3:-Write a Python program to remove duplicates from a list\n",
    "l=[1,2,3,4,5,6,7,4,3,2,1]\n",
    "l1=[]\n",
    "for i in l:\n",
    "    if i not in l1:\n",
    "        l1.append(i)\n",
    "    else:\n",
    "        print(i,end=' ')"
   ]
  },
  {
   "cell_type": "code",
   "execution_count": 7,
   "metadata": {},
   "outputs": [
    {
     "name": "stdout",
     "output_type": "stream",
     "text": [
      "3\n",
      "Given List is not empty\n"
     ]
    }
   ],
   "source": [
    "##Task4:-Write a Python program to check a list is empty or not.\n",
    "b=[1,2,34]\n",
    "c=len(b)\n",
    "print(c)\n",
    "if c==0:\n",
    "    print('Given List is empty')\n",
    "else:\n",
    "    print('Given List is not empty')"
   ]
  },
  {
   "cell_type": "code",
   "execution_count": 8,
   "metadata": {},
   "outputs": [
    {
     "name": "stdout",
     "output_type": "stream",
     "text": [
      "The specified list is:- [1, 2, 3, 4, 6]\n"
     ]
    }
   ],
   "source": [
    "###Task5:-Write a Python program to print a specified list after removing the 0th, 4th and 5th elements.\n",
    "l=[0,1,2,3,4,5,6,7.8]\n",
    "del l[0]\n",
    "del l[4]\n",
    "del l[5] \n",
    "print('The specified list is:-',l)"
   ]
  },
  {
   "cell_type": "code",
   "execution_count": 9,
   "metadata": {},
   "outputs": [
    {
     "data": {
      "text/plain": [
       "('a', 'b')"
      ]
     },
     "execution_count": 9,
     "metadata": {},
     "output_type": "execute_result"
    }
   ],
   "source": [
    "###Task6:-Write a program to remove duplicates and print tuple except last value\n",
    "t=(\"a\",\"b\",\"c\",\"c\")\n",
    "t1=[]\n",
    "for i in t:\n",
    "    if i not in t1:\n",
    "        t1.append(i)\n",
    "tuple(t1[:-1])"
   ]
  },
  {
   "cell_type": "code",
   "execution_count": 10,
   "metadata": {},
   "outputs": [
    {
     "data": {
      "text/plain": [
       "('south', 'north', 'east', 'west', 'ini', 'india lu lev', 'undi okate india')"
      ]
     },
     "execution_count": 10,
     "metadata": {},
     "output_type": "execute_result"
    }
   ],
   "source": [
    "##Task7:-write a program to replace element by given element\n",
    "a=(\"south\",\"north\",\"east\",\"west\",\"ini\",\"india lu lev\",\"undi okate pakistan\")\n",
    "b=list(a)\n",
    "b[6]='undi okate india'\n",
    "tuple(b)"
   ]
  },
  {
   "cell_type": "code",
   "execution_count": null,
   "metadata": {},
   "outputs": [],
   "source": []
  }
 ],
 "metadata": {
  "kernelspec": {
   "display_name": "Python 3",
   "language": "python",
   "name": "python3"
  },
  "language_info": {
   "codemirror_mode": {
    "name": "ipython",
    "version": 3
   },
   "file_extension": ".py",
   "mimetype": "text/x-python",
   "name": "python",
   "nbconvert_exporter": "python",
   "pygments_lexer": "ipython3",
   "version": "3.7.4"
  }
 },
 "nbformat": 4,
 "nbformat_minor": 2
}
