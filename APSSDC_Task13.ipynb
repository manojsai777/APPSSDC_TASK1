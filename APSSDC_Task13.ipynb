{
 "cells": [
  {
   "cell_type": "code",
   "execution_count": 1,
   "metadata": {},
   "outputs": [
    {
     "name": "stdout",
     "output_type": "stream",
     "text": [
      "Leap year 1820\n",
      "Leap year 1840\n",
      "Leap year 1860\n",
      "Leap year 1880\n",
      "Leap year 1920\n",
      "Leap year 1940\n",
      "Leap year 1960\n",
      "Leap year 1980\n",
      "Leap year 2000\n",
      "Leap year 2020\n"
     ]
    }
   ],
   "source": [
    "\n",
    "#Take a list of years between 1800 to 2030 and also display all the leap years which is divisible by 5.¶\n",
    "for i in range(1800,2031):\n",
    "    if (((i%4==0) and (i%100!=0)) or (i%400==0)) and (i%5==0):\n",
    "        print('Leap year',i)"
   ]
  },
  {
   "cell_type": "code",
   "execution_count": null,
   "metadata": {},
   "outputs": [],
   "source": []
  }
 ],
 "metadata": {
  "kernelspec": {
   "display_name": "Python 3",
   "language": "python",
   "name": "python3"
  },
  "language_info": {
   "codemirror_mode": {
    "name": "ipython",
    "version": 3
   },
   "file_extension": ".py",
   "mimetype": "text/x-python",
   "name": "python",
   "nbconvert_exporter": "python",
   "pygments_lexer": "ipython3",
   "version": "3.7.4"
  }
 },
 "nbformat": 4,
 "nbformat_minor": 2
}
